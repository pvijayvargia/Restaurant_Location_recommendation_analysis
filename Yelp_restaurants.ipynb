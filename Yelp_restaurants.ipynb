{
 "cells": [
  {
   "cell_type": "markdown",
   "metadata": {},
   "source": [
    "# DDR Final Project: Yelp Resturant Reviews "
   ]
  },
  {
   "cell_type": "markdown",
   "metadata": {},
   "source": [
    "Objective: Web scrape resturants on Yelp to identify locations for new resturant "
   ]
  },
  {
   "cell_type": "code",
   "execution_count": 1,
   "metadata": {},
   "outputs": [],
   "source": [
    "# load packages \n",
    "# import libraries\n",
    "import mysql.connector\n",
    "import warnings\n",
    "\n",
    "import requests\n",
    "import json\n",
    "import codecs\n",
    "from bs4 import BeautifulSoup\n"
   ]
  },
  {
   "cell_type": "code",
   "execution_count": 2,
   "metadata": {},
   "outputs": [],
   "source": [
    "# define headers and url of the page\n",
    "api_key = 'ovW_u_S0Cu9Csv9rfDH3ok2LeYO88IGfAiBvnkqblgRGPrwb0K8MOPsk99Ac6k3ESqxfUkRwE_xjk-GtjHkha5hAggJJ_3nZIU64F0GW8si_mkhFY2ByVTHu-hfoZXYx'\n",
    "url = 'https://api.yelp.com/v3/businesses/search'"
   ]
  },
  {
   "cell_type": "code",
   "execution_count": 60,
   "metadata": {},
   "outputs": [
    {
     "name": "stdout",
     "output_type": "stream",
     "text": [
      "{'businesses': [{'id': 'ATj-8RmOJln9UnCEuraEzw', 'alias': 'noodle-in-a-haystack-san-francisco', 'name': 'Noodle in a Haystack', 'image_url': 'https://s3-media2.fl.yelpcdn.com/bphoto/BoEM-6j0592nJhFGHMu-jA/o.jpg', 'is_closed': False, 'url': 'https://www.yelp.com/biz/noodle-in-a-haystack-san-francisco?adjust_creative=-v9YsR1-ec4Yo298coLw8w&amp;utm_campaign=yelp_api_v3&amp;utm_medium=api_v3_business_search&amp;utm_source=-v9YsR1-ec4Yo298coLw8w', 'review_count': 81, 'categories': [{'alias': 'ramen', 'title': 'Ramen'}, {'alias': 'newamerican', 'title': 'New American'}], 'rating': 4.8, 'coordinates': {'latitude': 37.78066412799114, 'longitude': -122.46872181182351}, 'transactions': [], 'price': '$$$$', 'location': {'address1': '4601 Geary Blvd', 'address2': '', 'address3': '', 'city': 'San Francisco', 'zip_code': '94118', 'country': 'US', 'state': 'CA', 'display_address': ['4601 Geary Blvd', 'San Francisco, CA 94118']}, 'phone': '', 'display_phone': '', 'distance': 3586.2280585938006}, {'id': 'kvFI8S8XuE0793DBR0wSbg', 'alias': 'san-ho-won-san-francisco-2', 'name': 'San Ho Won', 'image_url': 'https://s3-media3.fl.yelpcdn.com/bphoto/B-A2M8yK4_fXp1L4cZJb1g/o.jpg', 'is_closed': False, 'url': 'https://www.yelp.com/biz/san-ho-won-san-francisco-2?adjust_creative=-v9YsR1-ec4Yo298coLw8w&amp;utm_campaign=yelp_api_v3&amp;utm_medium=api_v3_business_search&amp;utm_source=-v9YsR1-ec4Yo298coLw8w', 'review_count': 566, 'categories': [{'alias': 'korean', 'title': 'Korean'}, {'alias': 'bbq', 'title': 'Barbeque'}], 'rating': 4.6, 'coordinates': {'latitude': 37.75961276313876, 'longitude': -122.4102472}, 'transactions': [], 'price': '$$$$', 'location': {'address1': '2170 Bryant St', 'address2': '', 'address3': None, 'city': 'San Francisco', 'zip_code': '94110', 'country': 'US', 'state': 'CA', 'display_address': ['2170 Bryant St', 'San Francisco, CA 94110']}, 'phone': '+14158684479', 'display_phone': '(415) 868-4479', 'distance': 2303.860246755672}, {'id': 'KarBZT88nFrtDTd-rWkvFQ', 'alias': 'friends-only-san-francisco', 'name': 'Friends Only', 'image_url': 'https://s3-media4.fl.yelpcdn.com/bphoto/lOcZfgYnehlCy9AmuAgNVA/o.jpg', 'is_closed': False, 'url': 'https://www.yelp.com/biz/friends-only-san-francisco?adjust_creative=-v9YsR1-ec4Yo298coLw8w&amp;utm_campaign=yelp_api_v3&amp;utm_medium=api_v3_business_search&amp;utm_source=-v9YsR1-ec4Yo298coLw8w', 'review_count': 24, 'categories': [{'alias': 'sushi', 'title': 'Sushi Bars'}], 'rating': 4.8, 'coordinates': {'latitude': 37.79071643719494, 'longitude': -122.4192309879741}, 'transactions': [], 'price': '$$$$', 'location': {'address1': '1501 California St', 'address2': '', 'address3': None, 'city': 'San Francisco', 'zip_code': '94109', 'country': 'US', 'state': 'CA', 'display_address': ['1501 California St', 'San Francisco, CA 94109']}, 'phone': '', 'display_phone': '', 'distance': 3634.0535820762707}, {'id': 'cCVR9W_L2rqexfKAjfBTzQ', 'alias': 'routier-san-francisco', 'name': 'Routier', 'image_url': 'https://s3-media2.fl.yelpcdn.com/bphoto/g7AVIin7cK8E_PmpsiiIbg/o.jpg', 'is_closed': False, 'url': 'https://www.yelp.com/biz/routier-san-francisco?adjust_creative=-v9YsR1-ec4Yo298coLw8w&amp;utm_campaign=yelp_api_v3&amp;utm_medium=api_v3_business_search&amp;utm_source=-v9YsR1-ec4Yo298coLw8w', 'review_count': 171, 'categories': [{'alias': 'french', 'title': 'French'}], 'rating': 4.4, 'coordinates': {'latitude': 37.78789, 'longitude': -122.440595}, 'transactions': [], 'price': '$$$$', 'location': {'address1': '2801 California St', 'address2': '', 'address3': None, 'city': 'San Francisco', 'zip_code': '94115', 'country': 'US', 'state': 'CA', 'display_address': ['2801 California St', 'San Francisco, CA 94115']}, 'phone': '+14157669997', 'display_phone': '(415) 766-9997', 'distance': 3016.4705745580513}, {'id': 'OC53zpcrjXVa7_9SAgLEPg', 'alias': 'anomaly-sf-san-francisco-2', 'name': 'Anomaly SF', 'image_url': 'https://s3-media3.fl.yelpcdn.com/bphoto/r4ERKIrQxnur9GcyhccYIg/o.jpg', 'is_closed': False, 'url': 'https://www.yelp.com/biz/anomaly-sf-san-francisco-2?adjust_creative=-v9YsR1-ec4Yo298coLw8w&amp;utm_campaign=yelp_api_v3&amp;utm_medium=api_v3_business_search&amp;utm_source=-v9YsR1-ec4Yo298coLw8w', 'review_count': 170, 'categories': [{'alias': 'newamerican', 'title': 'New American'}], 'rating': 4.7, 'coordinates': {'latitude': 37.78494492089844, 'longitude': -122.44337749674686}, 'transactions': [], 'price': '$$$$', 'location': {'address1': '2600 Sutter St', 'address2': None, 'address3': '', 'city': 'San Francisco', 'zip_code': '94115', 'country': 'US', 'state': 'CA', 'display_address': ['2600 Sutter St', 'San Francisco, CA 94115']}, 'phone': '+14155109468', 'display_phone': '(415) 510-9468', 'distance': 2734.0257409731234}, {'id': 'XVPiXV_TPivnr9szB5kc-A', 'alias': 'birdsong-san-francisco', 'name': 'Birdsong', 'image_url': 'https://s3-media2.fl.yelpcdn.com/bphoto/_PqJoNYPdM2OKc_ma_x79g/o.jpg', 'is_closed': False, 'url': 'https://www.yelp.com/biz/birdsong-san-francisco?adjust_creative=-v9YsR1-ec4Yo298coLw8w&amp;utm_campaign=yelp_api_v3&amp;utm_medium=api_v3_business_search&amp;utm_source=-v9YsR1-ec4Yo298coLw8w', 'review_count': 423, 'categories': [{'alias': 'newamerican', 'title': 'New American'}], 'rating': 4.4, 'coordinates': {'latitude': 37.7793175, 'longitude': -122.4105235}, 'transactions': [], 'price': '$$$$', 'location': {'address1': '1085 Mission St', 'address2': '', 'address3': None, 'city': 'San Francisco', 'zip_code': '94103', 'country': 'US', 'state': 'CA', 'display_address': ['1085 Mission St', 'San Francisco, CA 94103']}, 'phone': '+14153699161', 'display_phone': '(415) 369-9161', 'distance': 3068.726187329043}, {'id': 'hT72td0gX3rtgm0iGVlQ_w', 'alias': '7-adams-san-francisco-3', 'name': '7 Adams', 'image_url': 'https://s3-media2.fl.yelpcdn.com/bphoto/FPqib-bNbbtfrUysr95OHw/o.jpg', 'is_closed': False, 'url': 'https://www.yelp.com/biz/7-adams-san-francisco-3?adjust_creative=-v9YsR1-ec4Yo298coLw8w&amp;utm_campaign=yelp_api_v3&amp;utm_medium=api_v3_business_search&amp;utm_source=-v9YsR1-ec4Yo298coLw8w', 'review_count': 64, 'categories': [{'alias': 'tradamerican', 'title': 'American'}, {'alias': 'wine_bars', 'title': 'Wine Bars'}], 'rating': 4.2, 'coordinates': {'latitude': 37.785957, 'longitude': -122.432615}, 'transactions': [], 'price': '$$$$', 'location': {'address1': '1963 Sutter St', 'address2': None, 'address3': '', 'city': 'San Francisco', 'zip_code': '94115', 'country': 'US', 'state': 'CA', 'display_address': ['1963 Sutter St', 'San Francisco, CA 94115']}, 'phone': '+14156559154', 'display_phone': '(415) 655-9154', 'distance': 2799.0160801731254}, {'id': '9yM20-7fj4LMrOO30nqkBw', 'alias': 'l-ardoise-bistro-san-francisco', 'name': 'L’Ardoise Bistro', 'image_url': 'https://s3-media1.fl.yelpcdn.com/bphoto/Oouy2-h-oBw6AD6j_CgN0Q/o.jpg', 'is_closed': False, 'url': 'https://www.yelp.com/biz/l-ardoise-bistro-san-francisco?adjust_creative=-v9YsR1-ec4Yo298coLw8w&amp;utm_campaign=yelp_api_v3&amp;utm_medium=api_v3_business_search&amp;utm_source=-v9YsR1-ec4Yo298coLw8w', 'review_count': 1428, 'categories': [{'alias': 'french', 'title': 'French'}, {'alias': 'wine_bars', 'title': 'Wine Bars'}, {'alias': 'desserts', 'title': 'Desserts'}], 'rating': 4.5, 'coordinates': {'latitude': 37.7665241, 'longitude': -122.4331385}, 'transactions': ['delivery', 'pickup'], 'price': '$$$$', 'location': {'address1': '151 Noe St', 'address2': '', 'address3': '', 'city': 'San Francisco', 'zip_code': '94114', 'country': 'US', 'state': 'CA', 'display_address': ['151 Noe St', 'San Francisco, CA 94114']}, 'phone': '+14154372600', 'display_phone': '(415) 437-2600', 'distance': 689.9765914191024}, {'id': '30ZNWGlvkrMxXn2fXUDSug', 'alias': 'ox-and-tiger-san-francisco', 'name': 'Ox &amp; Tiger', 'image_url': 'https://s3-media3.fl.yelpcdn.com/bphoto/ndXvMuPYEOPOrp_alJx0kA/o.jpg', 'is_closed': False, 'url': 'https://www.yelp.com/biz/ox-and-tiger-san-francisco?adjust_creative=-v9YsR1-ec4Yo298coLw8w&amp;utm_campaign=yelp_api_v3&amp;utm_medium=api_v3_business_search&amp;utm_source=-v9YsR1-ec4Yo298coLw8w', 'review_count': 94, 'categories': [{'alias': 'filipino', 'title': 'Filipino'}, {'alias': 'japanese', 'title': 'Japanese'}], 'rating': 4.9, 'coordinates': {'latitude': 37.78651285460063, 'longitude': -122.41296493237763}, 'transactions': [], 'price': '$$$$', 'location': {'address1': '552 Jones St', 'address2': None, 'address3': '', 'city': 'San Francisco', 'zip_code': '94102', 'country': 'US', 'state': 'CA', 'display_address': ['552 Jones St', 'San Francisco, CA 94102']}, 'phone': '+14159923827', 'display_phone': '(415) 992-3827', 'distance': 3507.0697666365363}, {'id': 'RYQBuRLmBs1K1zTOAHPoQQ', 'alias': 'niku-steakhouse-san-francisco', 'name': 'Niku Steakhouse', 'image_url': 'https://s3-media1.fl.yelpcdn.com/bphoto/fCLLEOlPyZ-Llh9R-phq7g/o.jpg', 'is_closed': False, 'url': 'https://www.yelp.com/biz/niku-steakhouse-san-francisco?adjust_creative=-v9YsR1-ec4Yo298coLw8w&amp;utm_campaign=yelp_api_v3&amp;utm_medium=api_v3_business_search&amp;utm_source=-v9YsR1-ec4Yo298coLw8w', 'review_count': 698, 'categories': [{'alias': 'japanese', 'title': 'Japanese'}, {'alias': 'steak', 'title': 'Steakhouses'}], 'rating': 4.4, 'coordinates': {'latitude': 37.769675768063806, 'longitude': -122.40351925075042}, 'transactions': ['delivery'], 'price': '$$$$', 'location': {'address1': '61 Division St', 'address2': '', 'address3': None, 'city': 'San Francisco', 'zip_code': '94103', 'country': 'US', 'state': 'CA', 'display_address': ['61 Division St', 'San Francisco, CA 94103']}, 'phone': '+14158297817', 'display_phone': '(415) 829-7817', 'distance': 3047.3649157816617}, {'id': 'LysKaLPCFOdsUnlJC48Trg', 'alias': 'gozu-san-francisco', 'name': 'Gozu', 'image_url': 'https://s3-media2.fl.yelpcdn.com/bphoto/3Loftzn26L9rX0vX_RHXDQ/o.jpg', 'is_closed': False, 'url': 'https://www.yelp.com/biz/gozu-san-francisco?adjust_creative=-v9YsR1-ec4Yo298coLw8w&amp;utm_campaign=yelp_api_v3&amp;utm_medium=api_v3_business_search&amp;utm_source=-v9YsR1-ec4Yo298coLw8w', 'review_count': 130, 'categories': [{'alias': 'japanese', 'title': 'Japanese'}, {'alias': 'bars', 'title': 'Bars'}, {'alias': 'seafood', 'title': 'Seafood'}], 'rating': 4.3, 'coordinates': {'latitude': 37.7910664420758, 'longitude': -122.3919835329092}, 'transactions': ['delivery'], 'price': '$$$$', 'location': {'address1': '201 Spear St', 'address2': 'Ste 120', 'address3': None, 'city': 'San Francisco', 'zip_code': '94105', 'country': 'US', 'state': 'CA', 'display_address': ['201 Spear St', 'Ste 120', 'San Francisco, CA 94105']}, 'phone': '+14155239745', 'display_phone': '(415) 523-9745', 'distance': 5140.6471499836725}, {'id': 'JoU4A0wItwpBr1s-pyiCxg', 'alias': 'sorrel-san-francisco-3', 'name': 'Sorrel ', 'image_url': 'https://s3-media3.fl.yelpcdn.com/bphoto/OihYA2PXTwAxkNLBMnE-WA/o.jpg', 'is_closed': False, 'url': 'https://www.yelp.com/biz/sorrel-san-francisco-3?adjust_creative=-v9YsR1-ec4Yo298coLw8w&amp;utm_campaign=yelp_api_v3&amp;utm_medium=api_v3_business_search&amp;utm_source=-v9YsR1-ec4Yo298coLw8w', 'review_count': 350, 'categories': [{'alias': 'newamerican', 'title': 'New American'}, {'alias': 'italian', 'title': 'Italian'}], 'rating': 4.1, 'coordinates': {'latitude': 37.7884289278273, 'longitude': -122.44617240218504}, 'transactions': ['delivery', 'pickup'], 'price': '$$$$', 'location': {'address1': '3228 Sacramento St', 'address2': '', 'address3': '', 'city': 'San Francisco', 'zip_code': '94115', 'country': 'US', 'state': 'CA', 'display_address': ['3228 Sacramento St', 'San Francisco, CA 94115']}, 'phone': '+14155253765', 'display_phone': '(415) 525-3765', 'distance': 3170.3362636709276}, {'id': 'OcRSAkpOhnWHjV7X0FoM5Q', 'alias': 'jū-ni-san-francisco-5', 'name': 'jū-ni', 'image_url': 'https://s3-media2.fl.yelpcdn.com/bphoto/oY5j92Gum_nnqqAT99d48Q/o.jpg', 'is_closed': False, 'url': 'https://www.yelp.com/biz/j%C5%AB-ni-san-francisco-5?adjust_creative=-v9YsR1-ec4Yo298coLw8w&amp;utm_campaign=yelp_api_v3&amp;utm_medium=api_v3_business_search&amp;utm_source=-v9YsR1-ec4Yo298coLw8w', 'review_count': 512, 'categories': [{'alias': 'japanese', 'title': 'Japanese'}, {'alias': 'sushi', 'title': 'Sushi Bars'}], 'rating': 4.6, 'coordinates': {'latitude': 37.77653, 'longitude': -122.43883}, 'transactions': [], 'price': '$$$$', 'location': {'address1': '1335 Fulton St', 'address2': 'Ste 101', 'address3': '', 'city': 'San Francisco', 'zip_code': '94117', 'country': 'US', 'state': 'CA', 'display_address': ['1335 Fulton St', 'Ste 101', 'San Francisco, CA 94117']}, 'phone': '+14156559924', 'display_phone': '(415) 655-9924', 'distance': 1748.871244442681}, {'id': 'sJrlDmxVymCJ6AMS1GzBrg', 'alias': 'ken-san-francisco', 'name': 'Ken', 'image_url': 'https://s3-media2.fl.yelpcdn.com/bphoto/U4Ufii6nL-Cc9tCgBnO6IQ/o.jpg', 'is_closed': False, 'url': 'https://www.yelp.com/biz/ken-san-francisco?adjust_creative=-v9YsR1-ec4Yo298coLw8w&amp;utm_campaign=yelp_api_v3&amp;utm_medium=api_v3_business_search&amp;utm_source=-v9YsR1-ec4Yo298coLw8w', 'review_count': 84, 'categories': [{'alias': 'japanese', 'title': 'Japanese'}, {'alias': 'sushi', 'title': 'Sushi Bars'}], 'rating': 5.0, 'coordinates': {'latitude': 37.771418, 'longitude': -122.436954}, 'transactions': [], 'price': '$$$$', 'location': {'address1': '252 Divisadero St', 'address2': '', 'address3': None, 'city': 'San Francisco', 'zip_code': '94117', 'country': 'US', 'state': 'CA', 'display_address': ['252 Divisadero St', 'San Francisco, CA 94117']}, 'phone': '+16288677113', 'display_phone': '(628) 867-7113', 'distance': 1163.750169983173}, {'id': 'N2kNTSbEUkJbgME8dfhGOw', 'alias': 'miller-and-lux-san-francisco', 'name': 'Miller &amp; Lux', 'image_url': 'https://s3-media4.fl.yelpcdn.com/bphoto/ZSlHjcHZAaLddHj7QH8bgA/o.jpg', 'is_closed': False, 'url': 'https://www.yelp.com/biz/miller-and-lux-san-francisco?adjust_creative=-v9YsR1-ec4Yo298coLw8w&amp;utm_campaign=yelp_api_v3&amp;utm_medium=api_v3_business_search&amp;utm_source=-v9YsR1-ec4Yo298coLw8w', 'review_count': 331, 'categories': [{'alias': 'tradamerican', 'title': 'American'}, {'alias': 'steak', 'title': 'Steakhouses'}, {'alias': 'seafood', 'title': 'Seafood'}], 'rating': 4.2, 'coordinates': {'latitude': 37.76819998383212, 'longitude': -122.38644657401773}, 'transactions': [], 'price': '$$$$', 'location': {'address1': '700 Terry A Francois Blvd', 'address2': '', 'address3': '', 'city': 'San Francisco', 'zip_code': '94158', 'country': 'US', 'state': 'CA', 'display_address': ['700 Terry A Francois Blvd', 'San Francisco, CA 94158']}, 'phone': '+14158726699', 'display_phone': '(415) 872-6699', 'distance': 4463.531662816511}, {'id': 'XZi5rsUdnXeDdhRdgsRVpw', 'alias': 'aphotic-san-francisco', 'name': 'Aphotic', 'image_url': 'https://s3-media4.fl.yelpcdn.com/bphoto/YAQgMwAa1p1tZoFHM4OFAA/o.jpg', 'is_closed': False, 'url': 'https://www.yelp.com/biz/aphotic-san-francisco?adjust_creative=-v9YsR1-ec4Yo298coLw8w&amp;utm_campaign=yelp_api_v3&amp;utm_medium=api_v3_business_search&amp;utm_source=-v9YsR1-ec4Yo298coLw8w', 'review_count': 277, 'categories': [{'alias': 'cocktailbars', 'title': 'Cocktail Bars'}, {'alias': 'seafood', 'title': 'Seafood'}], 'rating': 4.4, 'coordinates': {'latitude': 37.781794, 'longitude': -122.401819}, 'transactions': [], 'price': '$$$$', 'location': {'address1': '816 Folsom St', 'address2': None, 'address3': '', 'city': 'San Francisco', 'zip_code': '94107', 'country': 'US', 'state': 'CA', 'display_address': ['816 Folsom St', 'San Francisco, CA 94107']}, 'phone': '+14158650529', 'display_phone': '(415) 865-0529', 'distance': 3819.8682115249753}, {'id': 'ZfMLpV7p3EvRv3Idpx89sQ', 'alias': 'spruce-san-francisco', 'name': 'Spruce', 'image_url': 'https://s3-media2.fl.yelpcdn.com/bphoto/IOdRwrJpU22f_txLGXsHiQ/o.jpg', 'is_closed': False, 'url': 'https://www.yelp.com/biz/spruce-san-francisco?adjust_creative=-v9YsR1-ec4Yo298coLw8w&amp;utm_campaign=yelp_api_v3&amp;utm_medium=api_v3_business_search&amp;utm_source=-v9YsR1-ec4Yo298coLw8w', 'review_count': 2270, 'categories': [{'alias': 'tradamerican', 'title': 'American'}], 'rating': 4.1, 'coordinates': {'latitude': 37.787621, 'longitude': -122.452734}, 'transactions': ['pickup'], 'price': '$$$$', 'location': {'address1': '3640 Sacramento St', 'address2': '', 'address3': '', 'city': 'San Francisco', 'zip_code': '94118', 'country': 'US', 'state': 'CA', 'display_address': ['3640 Sacramento St', 'San Francisco, CA 94118']}, 'phone': '+14159315100', 'display_phone': '(415) 931-5100', 'distance': 3291.5584795078075}, {'id': 'WavvLdfdP6g8aZTtbBQHTw', 'alias': 'gary-danko-san-francisco', 'name': 'Gary Danko', 'image_url': 'https://s3-media1.fl.yelpcdn.com/bphoto/Rqsfo-yDIBrYC6QHSlcw5A/o.jpg', 'is_closed': False, 'url': 'https://www.yelp.com/biz/gary-danko-san-francisco?adjust_creative=-v9YsR1-ec4Yo298coLw8w&amp;utm_campaign=yelp_api_v3&amp;utm_medium=api_v3_business_search&amp;utm_source=-v9YsR1-ec4Yo298coLw8w', 'review_count': 5947, 'categories': [{'alias': 'newamerican', 'title': 'New American'}, {'alias': 'french', 'title': 'French'}, {'alias': 'wine_bars', 'title': 'Wine Bars'}], 'rating': 4.5, 'coordinates': {'latitude': 37.805823482811675, 'longitude': -122.42060564460564}, 'transactions': ['pickup'], 'price': '$$$$', 'location': {'address1': '800 N Point St', 'address2': '', 'address3': '', 'city': 'San Francisco', 'zip_code': '94109', 'country': 'US', 'state': 'CA', 'display_address': ['800 N Point St', 'San Francisco, CA 94109']}, 'phone': '+14157492060', 'display_phone': '(415) 749-2060', 'distance': 5175.4232908554195}, {'id': 'JFgEWw7Jfr89M5WmqzVXGA', 'alias': 'merchant-roots-san-francisco', 'name': 'Merchant Roots', 'image_url': 'https://s3-media2.fl.yelpcdn.com/bphoto/Pzb0CDluvnm7MR3TkQeylw/o.jpg', 'is_closed': False, 'url': 'https://www.yelp.com/biz/merchant-roots-san-francisco?adjust_creative=-v9YsR1-ec4Yo298coLw8w&amp;utm_campaign=yelp_api_v3&amp;utm_medium=api_v3_business_search&amp;utm_source=-v9YsR1-ec4Yo298coLw8w', 'review_count': 88, 'categories': [{'alias': 'newamerican', 'title': 'New American'}], 'rating': 4.7, 'coordinates': {'latitude': 37.782056979136584, 'longitude': -122.4326902}, 'transactions': ['delivery', 'pickup'], 'price': '$$$$', 'location': {'address1': '1365 Fillmore St', 'address2': '', 'address3': None, 'city': 'San Francisco', 'zip_code': '94115', 'country': 'US', 'state': 'CA', 'display_address': ['1365 Fillmore St', 'San Francisco, CA 94115']}, 'phone': '+15305747365', 'display_phone': '(530) 574-7365', 'distance': 2365.7215397283635}, {'id': 'xalJwUiV9oMDCHCc6kZhqg', 'alias': 'ssal-san-francisco', 'name': 'SSAL', 'image_url': 'https://s3-media2.fl.yelpcdn.com/bphoto/4Q0NNigSNOeGshT0vVD-IQ/o.jpg', 'is_closed': False, 'url': 'https://www.yelp.com/biz/ssal-san-francisco?adjust_creative=-v9YsR1-ec4Yo298coLw8w&amp;utm_campaign=yelp_api_v3&amp;utm_medium=api_v3_business_search&amp;utm_source=-v9YsR1-ec4Yo298coLw8w', 'review_count': 232, 'categories': [{'alias': 'korean', 'title': 'Korean'}], 'rating': 4.6, 'coordinates': {'latitude': 37.79728333, 'longitude': -122.421945}, 'transactions': ['delivery'], 'price': '$$$$', 'location': {'address1': '2226 Polk St', 'address2': '', 'address3': None, 'city': 'San Francisco', 'zip_code': '94109', 'country': 'US', 'state': 'CA', 'display_address': ['2226 Polk St', 'San Francisco, CA 94109']}, 'phone': '', 'display_phone': '', 'distance': 4240.067698767334}], 'total': 95, 'region': {'center': {'longitude': -122.43644714355469, 'latitude': 37.76089938976322}}}\n"
     ]
    }
   ],
   "source": [
    "# define headers and parameters \n",
    "headers = {'Authorization': 'bearer %s' % api_key}\n",
    "params = {'term': 'restaurants', \n",
    "          #'limit': 400,\n",
    "          'radius': 20000,\n",
    "          'price': 4,\n",
    "          'location': 'San Francisco'}\n",
    "\n",
    "# make a request to Yelp\n",
    "page = requests.get(url,headers=headers, params=params)\n",
    "response = BeautifulSoup(page.content, 'html.parser')\n",
    "\n",
    "# put in json format \n",
    "restaurants = json.loads(str(response))\n",
    "\n",
    "# look at the keys in the json dict \n",
    "print(restaurants)\n",
    "\n",
    "# go through the resturants\n",
    "#for r in restaurants['businesses']: \n",
    "    #print(r)\n"
   ]
  },
  {
   "cell_type": "code",
   "execution_count": 61,
   "metadata": {},
   "outputs": [
    {
     "name": "stdout",
     "output_type": "stream",
     "text": [
      "{'id': 'ATj-8RmOJln9UnCEuraEzw', 'name': 'Noodle in a Haystack', 'address1': '4601 Geary Blvd', 'address2': '', 'city': 'San Francisco', 'zip_code': '94118', 'review_count': 81, 'categories': ['Ramen', 'New American'], 'rating': 4.8, 'price': '$$$$', 'transactions': [], 'latitude': 37.78066412799114, 'longitude': -122.46872181182351}\n",
      "{'id': 'kvFI8S8XuE0793DBR0wSbg', 'name': 'San Ho Won', 'address1': '2170 Bryant St', 'address2': '', 'city': 'San Francisco', 'zip_code': '94110', 'review_count': 566, 'categories': ['Korean', 'Barbeque'], 'rating': 4.6, 'price': '$$$$', 'transactions': [], 'latitude': 37.75961276313876, 'longitude': -122.4102472}\n",
      "{'id': 'KarBZT88nFrtDTd-rWkvFQ', 'name': 'Friends Only', 'address1': '1501 California St', 'address2': '', 'city': 'San Francisco', 'zip_code': '94109', 'review_count': 24, 'categories': ['Sushi Bars'], 'rating': 4.8, 'price': '$$$$', 'transactions': [], 'latitude': 37.79071643719494, 'longitude': -122.4192309879741}\n",
      "{'id': 'cCVR9W_L2rqexfKAjfBTzQ', 'name': 'Routier', 'address1': '2801 California St', 'address2': '', 'city': 'San Francisco', 'zip_code': '94115', 'review_count': 171, 'categories': ['French'], 'rating': 4.4, 'price': '$$$$', 'transactions': [], 'latitude': 37.78789, 'longitude': -122.440595}\n",
      "{'id': 'OC53zpcrjXVa7_9SAgLEPg', 'name': 'Anomaly SF', 'address1': '2600 Sutter St', 'address2': None, 'city': 'San Francisco', 'zip_code': '94115', 'review_count': 170, 'categories': ['New American'], 'rating': 4.7, 'price': '$$$$', 'transactions': [], 'latitude': 37.78494492089844, 'longitude': -122.44337749674686}\n",
      "{'id': 'XVPiXV_TPivnr9szB5kc-A', 'name': 'Birdsong', 'address1': '1085 Mission St', 'address2': '', 'city': 'San Francisco', 'zip_code': '94103', 'review_count': 423, 'categories': ['New American'], 'rating': 4.4, 'price': '$$$$', 'transactions': [], 'latitude': 37.7793175, 'longitude': -122.4105235}\n",
      "{'id': 'hT72td0gX3rtgm0iGVlQ_w', 'name': '7 Adams', 'address1': '1963 Sutter St', 'address2': None, 'city': 'San Francisco', 'zip_code': '94115', 'review_count': 64, 'categories': ['American', 'Wine Bars'], 'rating': 4.2, 'price': '$$$$', 'transactions': [], 'latitude': 37.785957, 'longitude': -122.432615}\n",
      "{'id': '9yM20-7fj4LMrOO30nqkBw', 'name': 'L’Ardoise Bistro', 'address1': '151 Noe St', 'address2': '', 'city': 'San Francisco', 'zip_code': '94114', 'review_count': 1428, 'categories': ['French', 'Wine Bars', 'Desserts'], 'rating': 4.5, 'price': '$$$$', 'transactions': ['delivery', 'pickup'], 'latitude': 37.7665241, 'longitude': -122.4331385}\n",
      "{'id': '30ZNWGlvkrMxXn2fXUDSug', 'name': 'Ox &amp; Tiger', 'address1': '552 Jones St', 'address2': None, 'city': 'San Francisco', 'zip_code': '94102', 'review_count': 94, 'categories': ['Filipino', 'Japanese'], 'rating': 4.9, 'price': '$$$$', 'transactions': [], 'latitude': 37.78651285460063, 'longitude': -122.41296493237763}\n",
      "{'id': 'RYQBuRLmBs1K1zTOAHPoQQ', 'name': 'Niku Steakhouse', 'address1': '61 Division St', 'address2': '', 'city': 'San Francisco', 'zip_code': '94103', 'review_count': 698, 'categories': ['Japanese', 'Steakhouses'], 'rating': 4.4, 'price': '$$$$', 'transactions': ['delivery'], 'latitude': 37.769675768063806, 'longitude': -122.40351925075042}\n",
      "{'id': 'LysKaLPCFOdsUnlJC48Trg', 'name': 'Gozu', 'address1': '201 Spear St', 'address2': 'Ste 120', 'city': 'San Francisco', 'zip_code': '94105', 'review_count': 130, 'categories': ['Japanese', 'Bars', 'Seafood'], 'rating': 4.3, 'price': '$$$$', 'transactions': ['delivery'], 'latitude': 37.7910664420758, 'longitude': -122.3919835329092}\n",
      "{'id': 'JoU4A0wItwpBr1s-pyiCxg', 'name': 'Sorrel ', 'address1': '3228 Sacramento St', 'address2': '', 'city': 'San Francisco', 'zip_code': '94115', 'review_count': 350, 'categories': ['New American', 'Italian'], 'rating': 4.1, 'price': '$$$$', 'transactions': ['delivery', 'pickup'], 'latitude': 37.7884289278273, 'longitude': -122.44617240218504}\n",
      "{'id': 'OcRSAkpOhnWHjV7X0FoM5Q', 'name': 'jū-ni', 'address1': '1335 Fulton St', 'address2': 'Ste 101', 'city': 'San Francisco', 'zip_code': '94117', 'review_count': 512, 'categories': ['Japanese', 'Sushi Bars'], 'rating': 4.6, 'price': '$$$$', 'transactions': [], 'latitude': 37.77653, 'longitude': -122.43883}\n",
      "{'id': 'sJrlDmxVymCJ6AMS1GzBrg', 'name': 'Ken', 'address1': '252 Divisadero St', 'address2': '', 'city': 'San Francisco', 'zip_code': '94117', 'review_count': 84, 'categories': ['Japanese', 'Sushi Bars'], 'rating': 5.0, 'price': '$$$$', 'transactions': [], 'latitude': 37.771418, 'longitude': -122.436954}\n",
      "{'id': 'N2kNTSbEUkJbgME8dfhGOw', 'name': 'Miller &amp; Lux', 'address1': '700 Terry A Francois Blvd', 'address2': '', 'city': 'San Francisco', 'zip_code': '94158', 'review_count': 331, 'categories': ['American', 'Steakhouses', 'Seafood'], 'rating': 4.2, 'price': '$$$$', 'transactions': [], 'latitude': 37.76819998383212, 'longitude': -122.38644657401773}\n",
      "{'id': 'XZi5rsUdnXeDdhRdgsRVpw', 'name': 'Aphotic', 'address1': '816 Folsom St', 'address2': None, 'city': 'San Francisco', 'zip_code': '94107', 'review_count': 277, 'categories': ['Cocktail Bars', 'Seafood'], 'rating': 4.4, 'price': '$$$$', 'transactions': [], 'latitude': 37.781794, 'longitude': -122.401819}\n",
      "{'id': 'ZfMLpV7p3EvRv3Idpx89sQ', 'name': 'Spruce', 'address1': '3640 Sacramento St', 'address2': '', 'city': 'San Francisco', 'zip_code': '94118', 'review_count': 2270, 'categories': ['American'], 'rating': 4.1, 'price': '$$$$', 'transactions': ['pickup'], 'latitude': 37.787621, 'longitude': -122.452734}\n",
      "{'id': 'WavvLdfdP6g8aZTtbBQHTw', 'name': 'Gary Danko', 'address1': '800 N Point St', 'address2': '', 'city': 'San Francisco', 'zip_code': '94109', 'review_count': 5947, 'categories': ['New American', 'French', 'Wine Bars'], 'rating': 4.5, 'price': '$$$$', 'transactions': ['pickup'], 'latitude': 37.805823482811675, 'longitude': -122.42060564460564}\n",
      "{'id': 'JFgEWw7Jfr89M5WmqzVXGA', 'name': 'Merchant Roots', 'address1': '1365 Fillmore St', 'address2': '', 'city': 'San Francisco', 'zip_code': '94115', 'review_count': 88, 'categories': ['New American'], 'rating': 4.7, 'price': '$$$$', 'transactions': ['delivery', 'pickup'], 'latitude': 37.782056979136584, 'longitude': -122.4326902}\n",
      "{'id': 'xalJwUiV9oMDCHCc6kZhqg', 'name': 'SSAL', 'address1': '2226 Polk St', 'address2': '', 'city': 'San Francisco', 'zip_code': '94109', 'review_count': 232, 'categories': ['Korean'], 'rating': 4.6, 'price': '$$$$', 'transactions': ['delivery'], 'latitude': 37.79728333, 'longitude': -122.421945}\n"
     ]
    }
   ],
   "source": [
    "# go through the restaurants and work out what needs to be stored in SQL\n",
    "for r in restaurants['businesses']:\n",
    "    category_titles = [category['title'] for category in r.get('categories')]  # collects all category titles\n",
    "    \n",
    "    restaurant_info = {'id': r.get('id'),\n",
    "                      'name': r.get('name'),\n",
    "                      'address1': r.get('location').get('address1'),\n",
    "                      'address2': r.get('location').get('address2'),\n",
    "                      'city': r.get('location').get('city'),\n",
    "                      'zip_code': r.get('location').get('zip_code'),\n",
    "                      'review_count': r.get('review_count'),\n",
    "                      'categories': category_titles,  # category titles, comma sep\n",
    "                      'rating': r.get('rating'),\n",
    "                      'price': r.get('price'),\n",
    "                      'transactions': r.get('transactions'),\n",
    "                      'latitude': r.get('coordinates').get('latitude'),\n",
    "                      'longitude': r.get('coordinates').get('longitude')\n",
    "                    }\n",
    "    print(restaurant_info)\n"
   ]
  },
  {
   "cell_type": "code",
   "execution_count": 57,
   "metadata": {},
   "outputs": [],
   "source": [
    "# Function to create a SQL table\n",
    "def create_sql_table(db_name, table_name, table_info):\n",
    "    try:\n",
    "        # Connect to server\n",
    "        conn = mysql.connector.connect(host='localhost', user='root', password='SaZhu0809')\n",
    "        cursor = conn.cursor()\n",
    "        \n",
    "        # Create database if it doesn't exist\n",
    "        cursor.execute(f\"CREATE DATABASE IF NOT EXISTS {db_name}\")\n",
    "        \n",
    "        # Create table if it doesn't exist\n",
    "        cursor.execute(f\"CREATE TABLE IF NOT EXISTS {db_name}.{table_name} {table_info}\")\n",
    "        \n",
    "    except mysql.connector.Error as err:\n",
    "        print(\"Something went wrong:\", err)\n",
    "    finally:\n",
    "        cursor.close()\n",
    "        conn.close()\n",
    "\n",
    "# Function to insert data into the table\n",
    "def insert_data(db_name, table_name, data):\n",
    "    try:\n",
    "        # Connect to the MySQL database\n",
    "        conn = mysql.connector.connect(host='localhost', user='root', password='SaZhu0809', database=db_name)\n",
    "        cursor = conn.cursor()\n",
    "\n",
    "        # Create a parameterized SQL query\n",
    "        placeholders = ', '.join(['%s'] * len(data))\n",
    "        columns = ', '.join(data.keys())\n",
    "        sql = f\"INSERT INTO {table_name} ({columns}) VALUES ({placeholders})\"\n",
    "\n",
    "        # Execute the query with the values from the data dictionary\n",
    "        cursor.execute(sql, list(data.values()))\n",
    "\n",
    "        # Commit the transaction\n",
    "        conn.commit()\n",
    "\n",
    "    except mysql.connector.Error as err:\n",
    "        print(\"Something went wrong:\", err)\n",
    "    finally:\n",
    "        if conn.is_connected():\n",
    "            cursor.close()\n",
    "            conn.close()\n",
    "\n"
   ]
  },
  {
   "cell_type": "code",
   "execution_count": 62,
   "metadata": {},
   "outputs": [],
   "source": [
    "# My database and table name\n",
    "SQL_DB = \"bax422_final_price4\"\n",
    "SQL_TABLE_NAME = \"Restaurant_with_Price4\"\n",
    "\n",
    "# SQL table structure\n",
    "SQL_TABLE_USER_INFO = \"\"\"\n",
    "(\n",
    "    id VARCHAR(100) PRIMARY KEY,\n",
    "    name VARCHAR(100),\n",
    "    address1 VARCHAR(100),\n",
    "    address2 VARCHAR(100),\n",
    "    city VARCHAR(100),\n",
    "    zip_code INT,\n",
    "    review_count INT,\n",
    "    categories VARCHAR(100),\n",
    "    rating FLOAT,\n",
    "    price VARCHAR(10),\n",
    "    transactions VARCHAR(100),\n",
    "    latitude FLOAT,\n",
    "    longitude FLOAT\n",
    ")\n",
    "\"\"\"\n",
    "\n",
    "# Create your database and table\n",
    "create_sql_table(SQL_DB, SQL_TABLE_NAME, SQL_TABLE_USER_INFO)\n"
   ]
  },
  {
   "cell_type": "code",
   "execution_count": 63,
   "metadata": {},
   "outputs": [
    {
     "ename": "",
     "evalue": "",
     "output_type": "error",
     "traceback": [
      "\u001b[1;31mThe Kernel crashed while executing code in the current cell or a previous cell. \n",
      "\u001b[1;31mPlease review the code in the cell(s) to identify a possible cause of the failure. \n",
      "\u001b[1;31mClick <a href='https://aka.ms/vscodeJupyterKernelCrash'>here</a> for more info. \n",
      "\u001b[1;31mView Jupyter <a href='command:jupyter.viewOutput'>log</a> for further details."
     ]
    }
   ],
   "source": [
    "# Go through and store the data in SQL database \n",
    "for r in restaurants['businesses']:\n",
    "    # Collect all category titles\n",
    "    category_titles = ', '.join(category['title'] for category in r['categories'])\n",
    "\n",
    "    # Prepare the restaurant info dictionary\n",
    "    restaurant_info = {\n",
    "        'id': r['id'],\n",
    "        'name': r['name'],\n",
    "        'address1': r['location']['address1'],\n",
    "        'address2': r['location'].get('address2', ''),  # Using get to avoid KeyError if 'address2' does not exist\n",
    "        'city': r['location']['city'],\n",
    "        'zip_code': r['location']['zip_code'],\n",
    "        'review_count': r['review_count'],\n",
    "        'categories': category_titles,  # Categories as a comma-separated string\n",
    "        'rating': r['rating'],\n",
    "        'price': r['price'],\n",
    "        'transactions': ', '.join(r['transactions']),  # transactions is a list\n",
    "        'latitude': r['coordinates']['latitude'],\n",
    "        'longitude': r['coordinates']['longitude']\n",
    "    }\n",
    "\n",
    "    # Insert data into SQL table\n",
    "    insert_data(SQL_DB, SQL_TABLE_NAME, restaurant_info)"
   ]
  }
 ],
 "metadata": {
  "kernelspec": {
   "display_name": "Python 3",
   "language": "python",
   "name": "python3"
  },
  "language_info": {
   "codemirror_mode": {
    "name": "ipython",
    "version": 3
   },
   "file_extension": ".py",
   "mimetype": "text/x-python",
   "name": "python",
   "nbconvert_exporter": "python",
   "pygments_lexer": "ipython3",
   "version": "3.12.0"
  }
 },
 "nbformat": 4,
 "nbformat_minor": 2
}
